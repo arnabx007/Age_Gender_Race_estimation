{
 "cells": [
  {
   "cell_type": "markdown",
   "id": "348911a1",
   "metadata": {},
   "source": [
    "# Training a multi-output network for age, gender and ethnicity detection on top of a pretrained model with Keras\n",
    "\n",
    "#### How to train a single model (using a base pretrained model)capable of predicting three distinct type of outputs (age, gender, ethnicity) in shown in this notebook. The dataset is csv format the UTKface dataset, collected from here:\n",
    "\n",
    "https://www.kaggle.com/nipunarora8/age-gender-and-ethnicity-face-data-csv\n",
    "\n",
    "#### I have used Densenet169 here that gives an accuracy of 93% for gender and 87% for ethnicity and 81% for age. \n",
    "\n",
    "##### I have converted age from continuous to categorical to treat it as a classification problem, rather than a regression problem. This yields better result and less fluctuation when predicting in real time videos e.g. webcam"
   ]
  },
  {
   "cell_type": "code",
   "execution_count": null,
   "id": "3a9e2b1a",
   "metadata": {
    "_cell_guid": "b1076dfc-b9ad-4769-8c92-a6c4dae69d19",
    "_uuid": "8f2839f25d086af736a60e9eeb907d3b93b6e0e5",
    "execution": {
     "iopub.execute_input": "2021-08-02T13:15:34.330627Z",
     "iopub.status.busy": "2021-08-02T13:15:34.329280Z",
     "iopub.status.idle": "2021-08-02T13:15:39.444287Z",
     "shell.execute_reply": "2021-08-02T13:15:39.443637Z",
     "shell.execute_reply.started": "2021-08-02T12:36:17.771244Z"
    },
    "papermill": {
     "duration": 5.150068,
     "end_time": "2021-08-02T13:15:39.444487",
     "exception": false,
     "start_time": "2021-08-02T13:15:34.294419",
     "status": "completed"
    },
    "tags": []
   },
   "outputs": [],
   "source": [
    "import pandas as pd\n",
    "import numpy as np\n",
    "from tqdm import tqdm\n",
    "\n",
    "import tensorflow.keras as keras \n",
    "import tensorflow as tf\n",
    "\n",
    "import seaborn as sns\n",
    "import matplotlib.pyplot as plt\n",
    "\n",
    "from sklearn.metrics import classification_report"
   ]
  },
  {
   "cell_type": "markdown",
   "id": "913826aa",
   "metadata": {
    "papermill": {
     "duration": 0.015171,
     "end_time": "2021-08-02T13:15:39.477591",
     "exception": false,
     "start_time": "2021-08-02T13:15:39.462420",
     "status": "completed"
    },
    "tags": []
   },
   "source": [
    "# Reading the CSV"
   ]
  },
  {
   "cell_type": "code",
   "execution_count": null,
   "id": "39390703",
   "metadata": {
    "execution": {
     "iopub.execute_input": "2021-08-02T13:15:39.514609Z",
     "iopub.status.busy": "2021-08-02T13:15:39.513960Z",
     "iopub.status.idle": "2021-08-02T13:15:42.824186Z",
     "shell.execute_reply": "2021-08-02T13:15:42.823680Z",
     "shell.execute_reply.started": "2021-08-02T12:36:17.78087Z"
    },
    "papermill": {
     "duration": 3.331228,
     "end_time": "2021-08-02T13:15:42.824324",
     "exception": false,
     "start_time": "2021-08-02T13:15:39.493096",
     "status": "completed"
    },
    "tags": []
   },
   "outputs": [],
   "source": [
    "df = pd.read_csv('./age_gender_ethnicity.csv')\n",
    "\n",
    "# Replace the ethinicty values ith real_categories\n",
    "ethnicity_mapping = {0:\"White\", 1:\"Black\", 2:\"Asian\", 3:\"Indian\", 4:\"Hispanic\"}\n",
    "df['ethnicity'].replace(ethnicity_mapping, inplace=True)\n",
    "\n",
    "# One-hot encode the ethinicty values\n",
    "tmp = pd.get_dummies(df['ethnicity'], prefix='eth')\n",
    "df = pd.concat([df, tmp], axis=1)\n",
    "df"
   ]
  },
  {
   "cell_type": "code",
   "execution_count": null,
   "id": "c951a7a9",
   "metadata": {
    "execution": {
     "iopub.execute_input": "2021-08-02T13:15:42.862982Z",
     "iopub.status.busy": "2021-08-02T13:15:42.862484Z",
     "iopub.status.idle": "2021-08-02T13:15:43.269779Z",
     "shell.execute_reply": "2021-08-02T13:15:43.269268Z",
     "shell.execute_reply.started": "2021-08-02T12:36:19.842983Z"
    },
    "papermill": {
     "duration": 0.427167,
     "end_time": "2021-08-02T13:15:43.269910",
     "exception": false,
     "start_time": "2021-08-02T13:15:42.842743",
     "status": "completed"
    },
    "tags": []
   },
   "outputs": [],
   "source": [
    "# Plotting the age values\n",
    "print('Unique age values: ', df['age'].nunique())\n",
    "sns.histplot(df['age'], bins=20)"
   ]
  },
  {
   "cell_type": "code",
   "execution_count": null,
   "id": "3119f3bc",
   "metadata": {
    "execution": {
     "iopub.execute_input": "2021-08-02T13:15:43.341651Z",
     "iopub.status.busy": "2021-08-02T13:15:43.340596Z",
     "iopub.status.idle": "2021-08-02T13:15:43.360728Z",
     "shell.execute_reply": "2021-08-02T13:15:43.361299Z",
     "shell.execute_reply.started": "2021-08-02T12:36:20.040267Z"
    },
    "papermill": {
     "duration": 0.073199,
     "end_time": "2021-08-02T13:15:43.361481",
     "exception": false,
     "start_time": "2021-08-02T13:15:43.288282",
     "status": "completed"
    },
    "tags": []
   },
   "outputs": [],
   "source": [
    "# Coverting age to categorical values to solve it as a classififcation problem instead of regression problem\n",
    "# If this is trained as a regression model, the age_values fluctuate too much during inference. \n",
    "def convert_age(age_value):\n",
    "    \n",
    "#     age_mapping = {0:'<10', 1:'11-15', 2:'16-20', 3:'21-25', 4:'26-30', 5:'31-35', 6:'36-42', 7:'43-50', 8:'51-60'. 9:'>60'}\n",
    "\n",
    "    if age_value<=10:\n",
    "        age_category = 0\n",
    "    if 11<=age_value<=15:\n",
    "        age_category = 1\n",
    "    if 16<=age_value<=20:\n",
    "        age_category = 2\n",
    "    if 21<=age_value<=25:\n",
    "        age_category = 3\n",
    "    if 26<=age_value<=30:\n",
    "        age_category = 4\n",
    "    if 31<=age_value<=35:\n",
    "        age_category = 5\n",
    "    if 36<=age_value<=42:\n",
    "        age_category = 6\n",
    "    if 43<=age_value<=50:\n",
    "        age_category = 7\n",
    "    if 51<=age_value<=60:\n",
    "        age_category = 8\n",
    "    if age_value>60:\n",
    "        age_category = 9\n",
    "        \n",
    "    return age_category\n",
    "\n",
    "df['age_category'] = df['age'].apply(convert_age)\n",
    "df"
   ]
  },
  {
   "cell_type": "code",
   "execution_count": null,
   "id": "d60964eb",
   "metadata": {
    "execution": {
     "iopub.execute_input": "2021-08-02T13:15:43.407584Z",
     "iopub.status.busy": "2021-08-02T13:15:43.406585Z",
     "iopub.status.idle": "2021-08-02T13:15:43.425854Z",
     "shell.execute_reply": "2021-08-02T13:15:43.425399Z",
     "shell.execute_reply.started": "2021-08-02T12:36:25.146572Z"
    },
    "papermill": {
     "duration": 0.044053,
     "end_time": "2021-08-02T13:15:43.425986",
     "exception": false,
     "start_time": "2021-08-02T13:15:43.381933",
     "status": "completed"
    },
    "tags": []
   },
   "outputs": [],
   "source": [
    "# Dropping the images with ages less than 3 \n",
    "to_drop = df[df['age']<=3].index\n",
    "len(to_drop)\n",
    "dfx = df.drop(to_drop, axis=0)\n",
    "dfx['age_category'].value_counts()\n",
    "\n",
    "# Randomly shuffle the dataset\n",
    "dfx = dfx.sample(frac=1).reset_index(drop=True)"
   ]
  },
  {
   "cell_type": "code",
   "execution_count": null,
   "id": "9915bf63",
   "metadata": {
    "execution": {
     "iopub.execute_input": "2021-08-02T13:15:43.475729Z",
     "iopub.status.busy": "2021-08-02T13:15:43.474746Z",
     "iopub.status.idle": "2021-08-02T13:15:46.810999Z",
     "shell.execute_reply": "2021-08-02T13:15:46.811436Z",
     "shell.execute_reply.started": "2021-08-02T12:36:28.421342Z"
    },
    "papermill": {
     "duration": 3.368142,
     "end_time": "2021-08-02T13:15:46.811587",
     "exception": false,
     "start_time": "2021-08-02T13:15:43.443445",
     "status": "completed"
    },
    "tags": []
   },
   "outputs": [],
   "source": [
    "# Plotting some random images\n",
    "eth = 'Asian'\n",
    "age_min = 20\n",
    "age_max = 50\n",
    "gender = 0\n",
    "\n",
    "fig = plt.figure(figsize=(25,15))\n",
    "\n",
    "tmp = df[(df['ethnicity']==eth) & (df['age']>=age_min) & (df['age']<=age_max)& (df['gender']==gender)].index[:30]\n",
    "\n",
    "j=0\n",
    "for i in tmp:\n",
    "    j+=1\n",
    "    ax = fig.add_subplot(5,6,j)\n",
    "    ax.imshow(np.array(df['pixels'][i].split(' '), dtype='int64').reshape(48,48))\n",
    "    plt.title(f'age: {df.age[i]}, ethnicity: {df.ethnicity[i]}, gender: {df.gender[i]}')"
   ]
  },
  {
   "cell_type": "code",
   "execution_count": null,
   "id": "90ea99b3",
   "metadata": {
    "execution": {
     "iopub.execute_input": "2021-08-02T13:15:46.898376Z",
     "iopub.status.busy": "2021-08-02T13:15:46.897487Z",
     "iopub.status.idle": "2021-08-02T13:15:46.900131Z",
     "shell.execute_reply": "2021-08-02T13:15:46.899635Z",
     "shell.execute_reply.started": "2021-08-02T12:36:35.358254Z"
    },
    "papermill": {
     "duration": 0.049105,
     "end_time": "2021-08-02T13:15:46.900243",
     "exception": false,
     "start_time": "2021-08-02T13:15:46.851138",
     "status": "completed"
    },
    "tags": []
   },
   "outputs": [],
   "source": [
    "# Create inputs with targets from dataframe\n",
    "def create_inputs_targets(df):\n",
    "    images = np.zeros((len(df), 48, 48))\n",
    "\n",
    "    for i in tqdm(range(len(df))):\n",
    "        images[i] = (np.array(df['pixels'][i].split(' '), dtype='int64').reshape(48,48)/255.0)\n",
    "     \n",
    "    age_labels = np.array(df['age_category'])\n",
    "    gender_labels = np.array(df['gender'])\n",
    "    ethnicity_labels = np.array(df[['eth_Asian', 'eth_Black', 'eth_Hispanic', 'eth_Indian', 'eth_White']])\n",
    "    \n",
    "    return images, [age_labels, gender_labels, ethnicity_labels]"
   ]
  },
  {
   "cell_type": "code",
   "execution_count": null,
   "id": "6a7b55f6",
   "metadata": {
    "execution": {
     "iopub.execute_input": "2021-08-02T13:15:46.987025Z",
     "iopub.status.busy": "2021-08-02T13:15:46.986140Z",
     "iopub.status.idle": "2021-08-02T13:16:02.131022Z",
     "shell.execute_reply": "2021-08-02T13:16:02.129577Z",
     "shell.execute_reply.started": "2021-08-02T12:36:37.627282Z"
    },
    "papermill": {
     "duration": 15.191484,
     "end_time": "2021-08-02T13:16:02.131160",
     "exception": false,
     "start_time": "2021-08-02T13:15:46.939676",
     "status": "completed"
    },
    "tags": []
   },
   "outputs": [],
   "source": [
    "# Splitting the dataframe into 80-20% training and validation dataframes\n",
    "validation_data_indices = dfx.sample(frac=0.2).index\n",
    "validation_df = df.loc[validation_data_indices, :].reset_index(drop=True)\n",
    "\n",
    "train_df = dfx.drop(validation_data_indices, axis=0).reset_index(drop=True)\n",
    "\n",
    "x_train, y_train = create_inputs_targets(train_df)\n",
    "x_val, y_val = create_inputs_targets(validation_df)\n",
    "\n",
    "print('Training data shape:', x_train.shape, y_train[0].shape, y_train[1].shape, y_train[2].shape)\n",
    "print('Validation data shape:', x_val.shape, y_val[0].shape, y_val[1].shape, y_val[2].shape)"
   ]
  },
  {
   "cell_type": "markdown",
   "id": "db7e9071",
   "metadata": {
    "papermill": {
     "duration": 0.086044,
     "end_time": "2021-08-02T13:16:02.305327",
     "exception": false,
     "start_time": "2021-08-02T13:16:02.219283",
     "status": "completed"
    },
    "tags": []
   },
   "source": [
    "# Building The Model"
   ]
  },
  {
   "cell_type": "code",
   "execution_count": null,
   "id": "ed83fa2e",
   "metadata": {
    "execution": {
     "iopub.execute_input": "2021-08-02T13:16:02.498874Z",
     "iopub.status.busy": "2021-08-02T13:16:02.498097Z",
     "iopub.status.idle": "2021-08-02T13:16:07.844520Z",
     "shell.execute_reply": "2021-08-02T13:16:07.843976Z",
     "shell.execute_reply.started": "2021-08-02T12:36:54.738341Z"
    },
    "jupyter": {
     "outputs_hidden": true
    },
    "papermill": {
     "duration": 5.45245,
     "end_time": "2021-08-02T13:16:07.844665",
     "exception": false,
     "start_time": "2021-08-02T13:16:02.392215",
     "status": "completed"
    },
    "tags": []
   },
   "outputs": [],
   "source": [
    "# The model will be composed of three heads, one for each target: age, gender and race.\n",
    "# I am using DenseNet169 as the base pretrained model here\n",
    "\n",
    "class create_model():\n",
    "    \n",
    "    def __init__(self, im_width=48, im_height=48):\n",
    "        \n",
    "        self.im_height = im_height\n",
    "        self.im_width = im_width\n",
    "        \n",
    "        # Initializing the base pretrained model\n",
    "        self.base = keras.applications.DenseNet169(weights=None, include_top=False, input_shape=(self.im_height, self.im_width, 1))\n",
    "        self.base.trainable=True\n",
    "        self.base_output_layer = self.base.output\n",
    "\n",
    "    # Making gender branch for gender prediction on top of the base model \n",
    "    def gender_branch(self):\n",
    "        \n",
    "        # Passing the output layer of the base preatined model to a flattening (global average pooling) layer\n",
    "        x = keras.layers.GlobalAveragePooling2D()(self.base_output_layer)\n",
    "        x = keras.layers.Dense(128, \n",
    "            kernel_initializer=keras.initializers.RandomUniform(seed=50),\n",
    "            bias_initializer=keras.initializers.Zeros(), activation='relu')(x)\n",
    "        x = keras.layers.Dense(32, \n",
    "            kernel_initializer=keras.initializers.RandomUniform(seed=50),\n",
    "            bias_initializer=keras.initializers.Zeros(), activation='relu')(x)\n",
    "        x = keras.layers.Dense(1, \n",
    "            kernel_initializer=keras.initializers.RandomUniform(seed=50),\n",
    "            bias_initializer=keras.initializers.Zeros())(x)\n",
    "        \n",
    "        x = keras.layers.Activation('sigmoid', name='gender_output')(x)\n",
    "        \n",
    "        return x    \n",
    "   \n",
    "    # Making branch for age prediction on top of the base model \n",
    "    def age_branch(self): \n",
    "        \n",
    "        # Passing the output layer of the base preatined model to a flattening (global average pooling) layer\n",
    "        x = keras.layers.GlobalAveragePooling2D()(self.base_output_layer)\n",
    "        x = keras.layers.Dense(128, \n",
    "            kernel_initializer=keras.initializers.RandomUniform(seed=50),\n",
    "            bias_initializer=keras.initializers.Zeros(), activation='relu')(x)\n",
    "        x = keras.layers.Dense(32, \n",
    "            kernel_initializer=keras.initializers.RandomUniform(seed=50),\n",
    "            bias_initializer=keras.initializers.Zeros(), activation='relu')(x)\n",
    "        x = keras.layers.Dense(10, \n",
    "            kernel_initializer=keras.initializers.RandomUniform(seed=50),\n",
    "            bias_initializer=keras.initializers.Zeros())(x)\n",
    "        \n",
    "        x = keras.layers.Activation('softmax', name='age_output')(x)\n",
    "        \n",
    "        return x\n",
    "    \n",
    "    # Making branch for ethnicity prediction on top of the base model \n",
    "    def ethnicity_branch(self): \n",
    "        \n",
    "        # Passing the output layer of the base preatined model to a flattening (global average pooling) layer\n",
    "        x = keras.layers.GlobalAveragePooling2D()(self.base_output_layer)\n",
    "        x = keras.layers.Dense(128, \n",
    "            kernel_initializer=keras.initializers.RandomUniform(seed=50),\n",
    "            bias_initializer=keras.initializers.Zeros(), activation='relu')(x)\n",
    "        x = keras.layers.Dense(32, \n",
    "            kernel_initializer=keras.initializers.RandomUniform(seed=50),\n",
    "            bias_initializer=keras.initializers.Zeros(), activation='relu')(x)\n",
    "        x = keras.layers.Dense(5, \n",
    "            kernel_initializer=keras.initializers.RandomUniform(seed=50),\n",
    "            bias_initializer=keras.initializers.Zeros())(x)\n",
    "        \n",
    "        x = keras.layers.Activation('softmax', name='ethnicity_output')(x)\n",
    "        \n",
    "        return x  \n",
    "    \n",
    "    def full_model(self):\n",
    "       \n",
    "        age_branch = self.age_branch()\n",
    "        gender_branch = self.gender_branch()\n",
    "        ethnicity_branch = self.ethnicity_branch() \n",
    "        \n",
    "        model = keras.models.Model(inputs= self.base.input,\n",
    "                     outputs = [age_branch, gender_branch, ethnicity_branch],\n",
    "                     name=\"FACE_NET\")        \n",
    "        return model\n",
    "    \n",
    "m = create_model(im_width=48, im_height=48)\n",
    "model = m.full_model()\n",
    "# model.summary()"
   ]
  },
  {
   "cell_type": "markdown",
   "id": "1d2130d1",
   "metadata": {
    "papermill": {
     "duration": 0.089132,
     "end_time": "2021-08-02T13:16:08.022008",
     "exception": false,
     "start_time": "2021-08-02T13:16:07.932876",
     "status": "completed"
    },
    "tags": []
   },
   "source": [
    "# Model Training"
   ]
  },
  {
   "cell_type": "code",
   "execution_count": null,
   "id": "44fda411",
   "metadata": {
    "execution": {
     "iopub.execute_input": "2021-08-02T13:16:08.206010Z",
     "iopub.status.busy": "2021-08-02T13:16:08.205000Z",
     "iopub.status.idle": "2021-08-02T14:11:38.599601Z",
     "shell.execute_reply": "2021-08-02T14:11:38.598668Z"
    },
    "papermill": {
     "duration": 3330.494346,
     "end_time": "2021-08-02T14:11:38.599759",
     "exception": false,
     "start_time": "2021-08-02T13:16:08.105413",
     "status": "completed"
    },
    "scrolled": true,
    "tags": []
   },
   "outputs": [],
   "source": [
    "losses = {'age_output': keras.losses.SparseCategoricalCrossentropy(), \n",
    "          'gender_output': keras.losses.BinaryCrossentropy(),\n",
    "          'ethnicity_output': keras.losses.CategoricalCrossentropy()}\n",
    "\n",
    "#Optional list or dictionary specifying scalar coefficients (Python floats) to weight the loss contributions of different model outputs. \n",
    "#The loss value that will be minimized by the model will then be the weighted sum of all individual losses, weighted by the loss_weights coefficients. \n",
    "loss_weights = {'age_output': 1.0, \n",
    "                'gender_output': 0.5,\n",
    "                'ethnicity_output':0.5}\n",
    "\n",
    "metrices = {'age_output': [keras.metrics.SparseTopKCategoricalAccuracy(k=1)], \n",
    "            'gender_output': [keras.metrics.BinaryAccuracy()],\n",
    "            'ethnicity_output': [keras.metrics.CategoricalAccuracy()]}\n",
    "\n",
    "init_lr = 1e-4\n",
    "epochs = 80\n",
    "\n",
    "# Decay based on the learning rate divided by the number of epochs, to slowly decrease the learning rate over the epochs.\n",
    "model.compile(optimizer = keras.optimizers.Adam(lr=init_lr, decay=init_lr/epochs), \n",
    "              loss = losses,\n",
    "              loss_weights = loss_weights,\n",
    "              metrics=metrices)\n",
    "\n",
    "my_callbacks = [keras.callbacks.EarlyStopping(monitor='loss', patience=5, mode='min', restore_best_weights=True)]\n",
    "\n",
    "hist = model.fit(x_train, y_train, validation_data=(x_val, y_val), epochs=epochs, batch_size=32, callbacks=my_callbacks)"
   ]
  },
  {
   "cell_type": "markdown",
   "id": "fbdfdcd5",
   "metadata": {
    "papermill": {
     "duration": 10.433158,
     "end_time": "2021-08-02T14:11:59.028899",
     "exception": false,
     "start_time": "2021-08-02T14:11:48.595741",
     "status": "completed"
    },
    "tags": []
   },
   "source": [
    "# Loss and Accuracy Plots"
   ]
  },
  {
   "cell_type": "code",
   "execution_count": null,
   "id": "c452c507",
   "metadata": {
    "execution": {
     "iopub.execute_input": "2021-08-02T14:12:20.426117Z",
     "iopub.status.busy": "2021-08-02T14:12:20.425136Z",
     "iopub.status.idle": "2021-08-02T14:12:22.174490Z",
     "shell.execute_reply": "2021-08-02T14:12:22.174905Z",
     "shell.execute_reply.started": "2021-08-02T13:11:46.568897Z"
    },
    "papermill": {
     "duration": 12.584621,
     "end_time": "2021-08-02T14:12:22.175048",
     "exception": false,
     "start_time": "2021-08-02T14:12:09.590427",
     "status": "completed"
    },
    "tags": []
   },
   "outputs": [],
   "source": [
    "fig = plt.figure(figsize=(25,20))\n",
    "width = 2\n",
    "height = 3\n",
    "\n",
    "epochs = [i+1 for i in range(len(hist.history['loss']))]\n",
    "\n",
    "# Age losses\n",
    "ax = fig.add_subplot(height,width,1)\n",
    "sns.lineplot(x = epochs, y = hist.history['age_output_loss'], ax=ax)\n",
    "sns.lineplot(x = epochs, y = hist.history['val_age_output_loss'], ax=ax)\n",
    "plt.title('Age Loss')\n",
    "plt.legend(['Age training loss', 'Age validation loss'])\n",
    "\n",
    "# Age accuracy\n",
    "ax = fig.add_subplot(height,width,2)\n",
    "sns.lineplot(x = epochs, y = hist.history['age_output_sparse_top_k_categorical_accuracy'], ax=ax)\n",
    "sns.lineplot(x = epochs, y = hist.history['val_age_output_sparse_top_k_categorical_accuracy'], ax=ax)\n",
    "plt.title('Age Accuracy (top 1 accuracy)')\n",
    "plt.legend(['Age training accuracy', 'Age validation accuracy'])\n",
    "\n",
    "# Gender losses\n",
    "ax = fig.add_subplot(height,width,3)\n",
    "sns.lineplot(x = epochs, y = hist.history['gender_output_loss'], ax=ax)\n",
    "sns.lineplot(x = epochs, y = hist.history['val_gender_output_loss'], ax=ax)\n",
    "plt.title('Gender Loss')\n",
    "plt.legend(['Gender training loss', 'Gender validation loss'])\n",
    "\n",
    "# Gender accuracy\n",
    "ax = fig.add_subplot(height,width,4)\n",
    "sns.lineplot(x = epochs, y = hist.history['gender_output_binary_accuracy'], ax=ax)\n",
    "sns.lineplot(x = epochs, y = hist.history['val_gender_output_binary_accuracy'], ax=ax)\n",
    "plt.title('Gender Accuracy (binary accuracy)')\n",
    "plt.legend(['Gender training accuracy', 'Gender validation accuracy'])\n",
    "\n",
    "ax = fig.add_subplot(height,width,5)\n",
    "sns.lineplot(x = epochs, y = hist.history['ethnicity_output_loss'], ax=ax)\n",
    "sns.lineplot(x = epochs, y = hist.history['val_ethnicity_output_loss'], ax=ax)\n",
    "plt.title('Ethnicity Loss')\n",
    "plt.legend(['Ethnicity training loss', 'Ethnicity validation loss'])\n",
    "\n",
    "ax = fig.add_subplot(height,width,6)\n",
    "sns.lineplot(x = epochs, y = hist.history['ethnicity_output_categorical_accuracy'], ax=ax)\n",
    "sns.lineplot(x = epochs, y = hist.history['val_ethnicity_output_categorical_accuracy'], ax=ax)\n",
    "plt.title('Ethnicity Accuracy (categorical accuracy)')\n",
    "plt.legend(['Ethnicity training accuracy', 'Ethnicity validation accuracy'])"
   ]
  },
  {
   "cell_type": "markdown",
   "id": "bb532b20",
   "metadata": {
    "papermill": {
     "duration": 10.537814,
     "end_time": "2021-08-02T14:12:43.120817",
     "exception": false,
     "start_time": "2021-08-02T14:12:32.583003",
     "status": "completed"
    },
    "tags": []
   },
   "source": [
    "# Classification reports for each feature on the Validation set"
   ]
  },
  {
   "cell_type": "code",
   "execution_count": null,
   "id": "50acbcd5",
   "metadata": {
    "execution": {
     "iopub.execute_input": "2021-08-02T14:13:03.105971Z",
     "iopub.status.busy": "2021-08-02T14:13:03.104613Z",
     "iopub.status.idle": "2021-08-02T14:13:08.430861Z",
     "shell.execute_reply": "2021-08-02T14:13:08.431449Z",
     "shell.execute_reply.started": "2021-08-02T13:12:16.617229Z"
    },
    "papermill": {
     "duration": 15.305001,
     "end_time": "2021-08-02T14:13:08.431634",
     "exception": false,
     "start_time": "2021-08-02T14:12:53.126633",
     "status": "completed"
    },
    "tags": []
   },
   "outputs": [],
   "source": [
    "predictions = model.predict(x_val)"
   ]
  },
  {
   "cell_type": "code",
   "execution_count": null,
   "id": "df2a49ee",
   "metadata": {
    "execution": {
     "iopub.execute_input": "2021-08-02T14:13:30.511633Z",
     "iopub.status.busy": "2021-08-02T14:13:30.510730Z",
     "iopub.status.idle": "2021-08-02T14:13:30.542808Z",
     "shell.execute_reply": "2021-08-02T14:13:30.542311Z",
     "shell.execute_reply.started": "2021-08-02T13:12:22.992688Z"
    },
    "papermill": {
     "duration": 10.786969,
     "end_time": "2021-08-02T14:13:30.542943",
     "exception": false,
     "start_time": "2021-08-02T14:13:19.755974",
     "status": "completed"
    },
    "tags": []
   },
   "outputs": [],
   "source": [
    "age_true = validation_df['age_category']\n",
    "age_true = np.array(age_true)\n",
    "\n",
    "age_pred = [np.argmax(predictions[0][i]) for i in range(len(x_val))]\n",
    "\n",
    "age_map = {0:'<10', 1:'11-15', 2:'16-20', 3:'21-25', 4:'26-30', 5:'31-35', 6:'36-42', 7:'43-50', 8:'51-60', 9:'>60'}\n",
    "reverse_age_map = {y:x for x,y in age_map.items()}\n",
    "\n",
    "age_report = classification_report(age_true, age_pred, target_names=reverse_age_map.keys())\n",
    "print(age_report)"
   ]
  },
  {
   "cell_type": "code",
   "execution_count": null,
   "id": "79b8352d",
   "metadata": {
    "execution": {
     "iopub.execute_input": "2021-08-02T14:13:50.772728Z",
     "iopub.status.busy": "2021-08-02T14:13:50.770244Z",
     "iopub.status.idle": "2021-08-02T14:13:50.788649Z",
     "shell.execute_reply": "2021-08-02T14:13:50.788192Z",
     "shell.execute_reply.started": "2021-08-02T13:12:27.274136Z"
    },
    "papermill": {
     "duration": 10.034543,
     "end_time": "2021-08-02T14:13:50.788776",
     "exception": false,
     "start_time": "2021-08-02T14:13:40.754233",
     "status": "completed"
    },
    "tags": []
   },
   "outputs": [],
   "source": [
    "gender_true = validation_df['gender']\n",
    "gender_true = np.array(gender_true)\n",
    "\n",
    "gender_pred = [round(predictions[1][i][0]) for i in range(len(x_val))]\n",
    "\n",
    "gender_report = classification_report(gender_true, gender_pred, target_names={'male':0, 'female':1}.keys())\n",
    "print(gender_report)"
   ]
  },
  {
   "cell_type": "code",
   "execution_count": null,
   "id": "4e4afba1",
   "metadata": {
    "execution": {
     "iopub.execute_input": "2021-08-02T14:14:11.224970Z",
     "iopub.status.busy": "2021-08-02T14:14:11.224154Z",
     "iopub.status.idle": "2021-08-02T14:14:11.268812Z",
     "shell.execute_reply": "2021-08-02T14:14:11.268287Z",
     "shell.execute_reply.started": "2021-08-02T13:12:29.636084Z"
    },
    "papermill": {
     "duration": 10.060955,
     "end_time": "2021-08-02T14:14:11.268929",
     "exception": false,
     "start_time": "2021-08-02T14:14:01.207974",
     "status": "completed"
    },
    "tags": []
   },
   "outputs": [],
   "source": [
    "eth_true = validation_df[['eth_Asian','eth_Black','eth_Hispanic','eth_Indian','eth_White']].values\n",
    "eth_true = [np.argmax(eth_true[i]) for i in range(len(eth_true))]\n",
    "\n",
    "eth_pred = [np.argmax(predictions[2][i]) for i in range(len(x_val))]\n",
    "\n",
    "# This eth map is not the same as the ethnicity_mapping dict. \n",
    "# When ethinicity data was one hot encoded pandas encoded it in alphabetical order\n",
    "\n",
    "eth_map = {0: 'Asian', 1: 'Black', 2: 'Hispanic', 3: 'Indian', 4: 'White'}\n",
    "reverse_eth_map = {y:x for x,y in eth_map.items()}\n",
    "\n",
    "eth_report = classification_report(eth_true, eth_pred, target_names=reverse_eth_map.keys())\n",
    "print(eth_report)"
   ]
  },
  {
   "cell_type": "markdown",
   "id": "1b29305e",
   "metadata": {
    "papermill": {
     "duration": 11.16529,
     "end_time": "2021-08-02T14:14:32.994654",
     "exception": false,
     "start_time": "2021-08-02T14:14:21.829364",
     "status": "completed"
    },
    "tags": []
   },
   "source": [
    "# Prediction on Random images from the dataframe"
   ]
  },
  {
   "cell_type": "code",
   "execution_count": null,
   "id": "092465e3",
   "metadata": {
    "execution": {
     "iopub.execute_input": "2021-08-02T14:14:53.757846Z",
     "iopub.status.busy": "2021-08-02T14:14:53.757053Z",
     "iopub.status.idle": "2021-08-02T14:14:59.518405Z",
     "shell.execute_reply": "2021-08-02T14:14:59.518810Z",
     "shell.execute_reply.started": "2021-08-02T13:14:54.873689Z"
    },
    "papermill": {
     "duration": 15.826901,
     "end_time": "2021-08-02T14:14:59.518955",
     "exception": false,
     "start_time": "2021-08-02T14:14:43.692054",
     "status": "completed"
    },
    "tags": []
   },
   "outputs": [],
   "source": [
    "# Plotting some random images\n",
    "random_indices = [np.random.randint(low=0, high=len(df)) for i in range(30)]\n",
    "\n",
    "fig = plt.figure(figsize=(20,15))\n",
    "\n",
    "for i in range(len(random_indices)):\n",
    "    ax = fig.add_subplot(5,6,i+1)\n",
    "    index = random_indices[i]\n",
    "    img = df['pixels'][index]\n",
    "    img = np.array(img.split(' '), dtype='int64').reshape(48,48)/255.0\n",
    "    ax.imshow(img)\n",
    "    \n",
    "    output = model.predict(np.reshape(img, (1,48,48)))\n",
    "    \n",
    "    age, gender, eth = np.argmax(output[0]), round(output[1][0][0]), np.argmax(output[2])\n",
    "    age = age_map[age]\n",
    "    ethnicity = eth_map[eth]\n",
    "    \n",
    "    plt.title(f'Real a: {df.age[index]},g: {df.gender[index]},e: {df.ethnicity[index]},\\nPrediction a:{age}, g:{gender}, e:{ethnicity}')\n",
    "    \n",
    "fig.tight_layout()"
   ]
  },
  {
   "cell_type": "code",
   "execution_count": null,
   "id": "757f1c35",
   "metadata": {
    "execution": {
     "iopub.execute_input": "2021-08-02T14:15:20.152792Z",
     "iopub.status.busy": "2021-08-02T14:15:20.151860Z",
     "iopub.status.idle": "2021-08-02T14:15:20.154644Z",
     "shell.execute_reply": "2021-08-02T14:15:20.154196Z"
    },
    "papermill": {
     "duration": 10.118537,
     "end_time": "2021-08-02T14:15:20.154756",
     "exception": false,
     "start_time": "2021-08-02T14:15:10.036219",
     "status": "completed"
    },
    "tags": []
   },
   "outputs": [],
   "source": [
    "# model.save('./face_net.h5')"
   ]
  }
 ],
 "metadata": {
  "kernelspec": {
   "display_name": "Python 3 (ipykernel)",
   "language": "python",
   "name": "python3"
  },
  "language_info": {
   "codemirror_mode": {
    "name": "ipython",
    "version": 3
   },
   "file_extension": ".py",
   "mimetype": "text/x-python",
   "name": "python",
   "nbconvert_exporter": "python",
   "pygments_lexer": "ipython3",
   "version": "3.8.6"
  },
  "papermill": {
   "default_parameters": {},
   "duration": 3607.100923,
   "end_time": "2021-08-02T14:15:33.935187",
   "environment_variables": {},
   "exception": null,
   "input_path": "__notebook__.ipynb",
   "output_path": "__notebook__.ipynb",
   "parameters": {},
   "start_time": "2021-08-02T13:15:26.834264",
   "version": "2.3.3"
  }
 },
 "nbformat": 4,
 "nbformat_minor": 5
}
